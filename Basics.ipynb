{
 "cells": [
  {
   "cell_type": "code",
   "execution_count": null,
   "metadata": {
    "collapsed": false,
    "scrolled": false
   },
   "outputs": [],
   "source": [
    "import csv\n",
    "f = open('guns.csv')\n",
    "data = list(csv.reader(f))\n",
    "print(data[:5])"
   ]
  },
  {
   "cell_type": "code",
   "execution_count": null,
   "metadata": {
    "collapsed": false,
    "scrolled": false
   },
   "outputs": [],
   "source": [
    "headers = data[0]\n",
    "data = data[1:]\n",
    "print(headers)\n",
    "print(data[:5])"
   ]
  },
  {
   "cell_type": "code",
   "execution_count": null,
   "metadata": {
    "collapsed": false
   },
   "outputs": [],
   "source": [
    "years = []\n",
    "for row in data:\n",
    "    years.append(row[1])\n",
    "    \n",
    "    \n",
    "years_counts = {}\n",
    "for year in years:\n",
    "    if year in years_counts:\n",
    "        years_counts[year] += 1\n",
    "    else:\n",
    "        years_counts[year] = 1\n",
    "        \n",
    "print(years_counts)"
   ]
  },
  {
   "cell_type": "code",
   "execution_count": null,
   "metadata": {
    "collapsed": false,
    "scrolled": true
   },
   "outputs": [],
   "source": [
    "import datetime\n",
    "dates = []\n",
    "\n",
    "for row in data:\n",
    "    year = int(row[1])\n",
    "    month = int(row[2])\n",
    "    dates.append(datetime.datetime(year = year, month = month, day = 1))\n",
    "    \n",
    "\n",
    "print(dates[:5])\n",
    "\n",
    "date_counts = {}\n",
    "for date in dates:\n",
    "    if date in date_counts:\n",
    "        date_counts[date] += 1\n",
    "    else:\n",
    "        date_counts[date] = 1\n",
    "        \n",
    "print(date_counts)\n",
    "    "
   ]
  },
  {
   "cell_type": "code",
   "execution_count": null,
   "metadata": {
    "collapsed": false
   },
   "outputs": [],
   "source": [
    "sexes = []\n",
    "for row in data:\n",
    "    sexes.append(row[5])\n",
    "\n",
    "\n",
    "sex_counts = {}\n",
    "for sex in sexes:\n",
    "    if sex in sex_counts:\n",
    "        sex_counts[sex] += 1\n",
    "    else:\n",
    "        sex_counts[sex] = 1\n",
    "        \n",
    "        \n",
    "races = []\n",
    "for row in data:\n",
    "    races.append(row[7])\n",
    "\n",
    "\n",
    "race_counts = {}\n",
    "for race in races:\n",
    "    if race in race_counts:\n",
    "        race_counts[race] += 1\n",
    "    else:\n",
    "        race_counts[race] = 1\n",
    "        \n",
    "print(sex_counts)\n",
    "print(race_counts)"
   ]
  },
  {
   "cell_type": "code",
   "execution_count": null,
   "metadata": {
    "collapsed": false
   },
   "outputs": [],
   "source": [
    "c = open('census.csv')\n",
    "census = list(csv.reader(c))\n",
    "\n",
    "print(census)"
   ]
  },
  {
   "cell_type": "code",
   "execution_count": null,
   "metadata": {
    "collapsed": false
   },
   "outputs": [],
   "source": [
    "mapping = {'White':197318956, 'Hispanic':44618105, 'Black':40250635, 'Native American/Native Alaskan':3739506,'Asian/Pacific Islander': 15159516+ 674625}\n",
    "\n",
    "race_per_hundredk = {}\n",
    "\n",
    "for race in race_counts:\n",
    "    race_per_hundredk[race] = race_counts[race]/mapping[race]*100000\n",
    "\n",
    "print(race_per_hundredk)\n",
    "\n"
   ]
  },
  {
   "cell_type": "code",
   "execution_count": null,
   "metadata": {
    "collapsed": false
   },
   "outputs": [],
   "source": [
    "intents = []\n",
    "for row in data:\n",
    "    intents.append(row[3])\n",
    "    \n",
    "homicide_race_counts = {}\n",
    "\n",
    "for i, race in enumerate(races):\n",
    "    if intents[i] == \"Homicide\":\n",
    "        if race in homicide_race_counts:\n",
    "            homicide_race_counts[race] += 1\n",
    "        else:\n",
    "            homicide_race_counts[race] = 1\n",
    "            \n",
    "for race in homicide_race_counts:\n",
    "    homicide_race_counts[race] = homicide_race_counts[race]/mapping[race]*100000\n",
    "    \n",
    "    \n",
    "print(homicide_race_counts)"
   ]
  },
  {
   "cell_type": "markdown",
   "metadata": {},
   "source": [
    "1. The gun death population by races data show that While population is the highest;\n",
    "2. However, when considering the percentage of each race in total population, the gun death rate by race data shows the black/aferican american is the highest;\n",
    "3. By counting only the homicide gun death count, the data shows diffrent trend with the gun death per 100k by races. The homicide rate of white population is significantly lower, the same applies to Native Americans. The Black homicdie rate is the highest, and the Hispanic homicide rate is the second highest. The homicide rate of Asian shows little change compare to the total gun death rate.\n",
    "4. The male gun death popultation is higher than that of female"
   ]
  },
  {
   "cell_type": "markdown",
   "metadata": {},
   "source": [
    "1. Visulize the total gun death rate by race\n",
    "2. Visulize the homicide gun death rate by race\n",
    "3. Compare the total gun death population by months of each year\n",
    "3. Compare the gun death population by years\n",
    "5. Compare the gun death population by age group"
   ]
  }
 ],
 "metadata": {
  "kernelspec": {
   "display_name": "Python 3",
   "language": "python",
   "name": "python3"
  },
  "language_info": {
   "codemirror_mode": {
    "name": "ipython",
    "version": 3
   },
   "file_extension": ".py",
   "mimetype": "text/x-python",
   "name": "python",
   "nbconvert_exporter": "python",
   "pygments_lexer": "ipython3",
   "version": "3.4.3"
  }
 },
 "nbformat": 4,
 "nbformat_minor": 0
}
